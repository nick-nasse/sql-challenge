{
 "cells": [
  {
   "cell_type": "code",
   "execution_count": 2,
   "metadata": {},
   "outputs": [],
   "source": [
    "from sqlalchemy import create_engine\n",
    "engine = create_engine(\"postgresql://localhost:5432/sql_challenge\")\n",
    "connection = engine.connect()\n",
    "import pandas as pd\n",
    "import matplotlib.pyplot as plt\n",
    "import pylab as pl"
   ]
  },
  {
   "cell_type": "code",
   "execution_count": 3,
   "metadata": {},
   "outputs": [
    {
     "data": {
      "text/html": [
       "<div>\n",
       "<style scoped>\n",
       "    .dataframe tbody tr th:only-of-type {\n",
       "        vertical-align: middle;\n",
       "    }\n",
       "\n",
       "    .dataframe tbody tr th {\n",
       "        vertical-align: top;\n",
       "    }\n",
       "\n",
       "    .dataframe thead th {\n",
       "        text-align: right;\n",
       "    }\n",
       "</style>\n",
       "<table border=\"1\" class=\"dataframe\">\n",
       "  <thead>\n",
       "    <tr style=\"text-align: right;\">\n",
       "      <th></th>\n",
       "      <th>title_id</th>\n",
       "      <th>title</th>\n",
       "      <th>emp_no</th>\n",
       "      <th>emp_title_id</th>\n",
       "      <th>birth_date</th>\n",
       "      <th>first_name</th>\n",
       "      <th>last_name</th>\n",
       "      <th>sex</th>\n",
       "      <th>hire_date</th>\n",
       "      <th>emp_no</th>\n",
       "      <th>salary</th>\n",
       "    </tr>\n",
       "  </thead>\n",
       "  <tbody>\n",
       "    <tr>\n",
       "      <th>0</th>\n",
       "      <td>e0002</td>\n",
       "      <td>Engineer</td>\n",
       "      <td>57444</td>\n",
       "      <td>e0002</td>\n",
       "      <td>1/30/1958</td>\n",
       "      <td>Berry</td>\n",
       "      <td>Babb</td>\n",
       "      <td>F</td>\n",
       "      <td>3/21/1992</td>\n",
       "      <td>57444</td>\n",
       "      <td>48973</td>\n",
       "    </tr>\n",
       "    <tr>\n",
       "      <th>1</th>\n",
       "      <td>e0003</td>\n",
       "      <td>Senior Engineer</td>\n",
       "      <td>13616</td>\n",
       "      <td>e0003</td>\n",
       "      <td>8/30/1961</td>\n",
       "      <td>Perry</td>\n",
       "      <td>Lorho</td>\n",
       "      <td>F</td>\n",
       "      <td>8/3/1991</td>\n",
       "      <td>13616</td>\n",
       "      <td>40000</td>\n",
       "    </tr>\n",
       "    <tr>\n",
       "      <th>2</th>\n",
       "      <td>e0004</td>\n",
       "      <td>Technique Leader</td>\n",
       "      <td>240129</td>\n",
       "      <td>e0004</td>\n",
       "      <td>8/11/1952</td>\n",
       "      <td>Roddy</td>\n",
       "      <td>Karnin</td>\n",
       "      <td>M</td>\n",
       "      <td>5/29/1985</td>\n",
       "      <td>240129</td>\n",
       "      <td>43548</td>\n",
       "    </tr>\n",
       "    <tr>\n",
       "      <th>3</th>\n",
       "      <td>s0001</td>\n",
       "      <td>Staff</td>\n",
       "      <td>427958</td>\n",
       "      <td>s0001</td>\n",
       "      <td>5/3/1957</td>\n",
       "      <td>Feixiong</td>\n",
       "      <td>Poujol</td>\n",
       "      <td>F</td>\n",
       "      <td>5/11/1985</td>\n",
       "      <td>427958</td>\n",
       "      <td>63377</td>\n",
       "    </tr>\n",
       "    <tr>\n",
       "      <th>4</th>\n",
       "      <td>e0003</td>\n",
       "      <td>Senior Engineer</td>\n",
       "      <td>35916</td>\n",
       "      <td>e0003</td>\n",
       "      <td>8/15/1953</td>\n",
       "      <td>Wonhee</td>\n",
       "      <td>Talmon</td>\n",
       "      <td>F</td>\n",
       "      <td>3/20/1985</td>\n",
       "      <td>35916</td>\n",
       "      <td>40000</td>\n",
       "    </tr>\n",
       "    <tr>\n",
       "      <th>...</th>\n",
       "      <td>...</td>\n",
       "      <td>...</td>\n",
       "      <td>...</td>\n",
       "      <td>...</td>\n",
       "      <td>...</td>\n",
       "      <td>...</td>\n",
       "      <td>...</td>\n",
       "      <td>...</td>\n",
       "      <td>...</td>\n",
       "      <td>...</td>\n",
       "      <td>...</td>\n",
       "    </tr>\n",
       "    <tr>\n",
       "      <th>300019</th>\n",
       "      <td>s0001</td>\n",
       "      <td>Staff</td>\n",
       "      <td>222402</td>\n",
       "      <td>s0001</td>\n",
       "      <td>3/3/1955</td>\n",
       "      <td>Jaana</td>\n",
       "      <td>Klyachko</td>\n",
       "      <td>F</td>\n",
       "      <td>1/11/1991</td>\n",
       "      <td>222402</td>\n",
       "      <td>40000</td>\n",
       "    </tr>\n",
       "    <tr>\n",
       "      <th>300020</th>\n",
       "      <td>e0004</td>\n",
       "      <td>Technique Leader</td>\n",
       "      <td>70921</td>\n",
       "      <td>e0004</td>\n",
       "      <td>8/30/1957</td>\n",
       "      <td>Martijn</td>\n",
       "      <td>Bernardeschi</td>\n",
       "      <td>F</td>\n",
       "      <td>4/28/1991</td>\n",
       "      <td>70921</td>\n",
       "      <td>40000</td>\n",
       "    </tr>\n",
       "    <tr>\n",
       "      <th>300021</th>\n",
       "      <td>e0003</td>\n",
       "      <td>Senior Engineer</td>\n",
       "      <td>275129</td>\n",
       "      <td>e0003</td>\n",
       "      <td>7/25/1958</td>\n",
       "      <td>Fay</td>\n",
       "      <td>Perz</td>\n",
       "      <td>M</td>\n",
       "      <td>12/19/1988</td>\n",
       "      <td>275129</td>\n",
       "      <td>59703</td>\n",
       "    </tr>\n",
       "    <tr>\n",
       "      <th>300022</th>\n",
       "      <td>e0003</td>\n",
       "      <td>Senior Engineer</td>\n",
       "      <td>202478</td>\n",
       "      <td>e0003</td>\n",
       "      <td>11/16/1956</td>\n",
       "      <td>Xiaoheng</td>\n",
       "      <td>Michaels</td>\n",
       "      <td>M</td>\n",
       "      <td>7/27/1991</td>\n",
       "      <td>202478</td>\n",
       "      <td>48038</td>\n",
       "    </tr>\n",
       "    <tr>\n",
       "      <th>300023</th>\n",
       "      <td>e0003</td>\n",
       "      <td>Senior Engineer</td>\n",
       "      <td>81057</td>\n",
       "      <td>e0003</td>\n",
       "      <td>11/3/1957</td>\n",
       "      <td>Patricio</td>\n",
       "      <td>Pocchiola</td>\n",
       "      <td>M</td>\n",
       "      <td>2/16/1985</td>\n",
       "      <td>81057</td>\n",
       "      <td>40000</td>\n",
       "    </tr>\n",
       "  </tbody>\n",
       "</table>\n",
       "<p>300024 rows × 11 columns</p>\n",
       "</div>"
      ],
      "text/plain": [
       "       title_id             title  emp_no emp_title_id  birth_date first_name  \\\n",
       "0         e0002          Engineer   57444        e0002   1/30/1958      Berry   \n",
       "1         e0003   Senior Engineer   13616        e0003   8/30/1961      Perry   \n",
       "2         e0004  Technique Leader  240129        e0004   8/11/1952      Roddy   \n",
       "3         s0001             Staff  427958        s0001    5/3/1957   Feixiong   \n",
       "4         e0003   Senior Engineer   35916        e0003   8/15/1953     Wonhee   \n",
       "...         ...               ...     ...          ...         ...        ...   \n",
       "300019    s0001             Staff  222402        s0001    3/3/1955      Jaana   \n",
       "300020    e0004  Technique Leader   70921        e0004   8/30/1957    Martijn   \n",
       "300021    e0003   Senior Engineer  275129        e0003   7/25/1958        Fay   \n",
       "300022    e0003   Senior Engineer  202478        e0003  11/16/1956   Xiaoheng   \n",
       "300023    e0003   Senior Engineer   81057        e0003   11/3/1957   Patricio   \n",
       "\n",
       "           last_name sex   hire_date  emp_no  salary  \n",
       "0               Babb   F   3/21/1992   57444   48973  \n",
       "1              Lorho   F    8/3/1991   13616   40000  \n",
       "2             Karnin   M   5/29/1985  240129   43548  \n",
       "3             Poujol   F   5/11/1985  427958   63377  \n",
       "4             Talmon   F   3/20/1985   35916   40000  \n",
       "...              ...  ..         ...     ...     ...  \n",
       "300019      Klyachko   F   1/11/1991  222402   40000  \n",
       "300020  Bernardeschi   F   4/28/1991   70921   40000  \n",
       "300021          Perz   M  12/19/1988  275129   59703  \n",
       "300022      Michaels   M   7/27/1991  202478   48038  \n",
       "300023     Pocchiola   M   2/16/1985   81057   40000  \n",
       "\n",
       "[300024 rows x 11 columns]"
      ]
     },
     "execution_count": 3,
     "metadata": {},
     "output_type": "execute_result"
    }
   ],
   "source": [
    "dframe = pd.read_sql(\"SELECT * FROM titles t JOIN employees e ON t.title_id = e.emp_title_id JOIN salaries s ON s.emp_no = e.emp_no\", engine)\n",
    "dframe"
   ]
  },
  {
   "cell_type": "code",
   "execution_count": 4,
   "metadata": {},
   "outputs": [
    {
     "data": {
      "text/plain": [
       "title_id        object\n",
       "title           object\n",
       "emp_no           int64\n",
       "emp_title_id    object\n",
       "birth_date      object\n",
       "first_name      object\n",
       "last_name       object\n",
       "sex             object\n",
       "hire_date       object\n",
       "emp_no           int64\n",
       "salary           int64\n",
       "dtype: object"
      ]
     },
     "execution_count": 4,
     "metadata": {},
     "output_type": "execute_result"
    }
   ],
   "source": [
    "dframe.dtypes"
   ]
  },
  {
   "cell_type": "code",
   "execution_count": 18,
   "metadata": {},
   "outputs": [
    {
     "data": {
      "image/png": "[encoded data removed]",
      "text/plain": [
       "<Figure size 432x288 with 1 Axes>"
      ]
     },
     "metadata": {
      "needs_background": "light"
     },
     "output_type": "display_data"
    }
   ],
   "source": [
    "ax = dframe.hist(column='salary')\n",
    "\n",
    "ax = ax[0]\n",
    "for x in ax:\n",
    "\n",
    "    # Despine\n",
    "    x.spines['right'].set_visible(False)\n",
    "    x.spines['top'].set_visible(False)\n",
    "    x.spines['left'].set_visible(False)\n",
    "\n",
    "    # Switch off ticks\n",
    "    x.tick_params(axis=\"both\", which=\"both\", bottom=\"off\", top=\"off\", labelbottom=\"on\", left=\"off\", right=\"off\", labelleft=\"on\")\n",
    "\n",
    "    # Draw horizontal axis lines\n",
    "    vals = x.get_yticks()\n",
    "    for tick in vals:\n",
    "        x.axhline(y=tick, linestyle='dashed', alpha=0.4, color='#eeeeee', zorder=1)\n",
    "\n",
    "    # Remove title\n",
    "    x.set_title(\"Range of Employee Salaries\", weight='bold', size=12)\n",
    "\n",
    "    # Set x-axis label\n",
    "    x.set_xlabel(\"Employee Salaries\", labelpad=20, weight='bold', size=12)\n",
    "\n",
    "    # Set y-axis label\n",
    "    x.set_ylabel(\"# of Employees\", labelpad=20, weight='bold', size=12)\n"
   ]
  },
  {
   "cell_type": "code",
   "execution_count": 23,
   "metadata": {},
   "outputs": [],
   "source": [
    "avg_sal = dframe.groupby('title')['salary'].mean()"
   ]
  },
  {
   "cell_type": "code",
   "execution_count": 24,
   "metadata": {},
   "outputs": [
    {
     "data": {
      "text/plain": [
       "title\n",
       "Assistant Engineer    48564.434447\n",
       "Engineer              48535.336511\n",
       "Manager               51531.041667\n",
       "Senior Engineer       48506.799871\n",
       "Senior Staff          58550.172704\n",
       "Staff                 58465.382850\n",
       "Technique Leader      48582.896092\n",
       "Name: salary, dtype: float64"
      ]
     },
     "execution_count": 24,
     "metadata": {},
     "output_type": "execute_result"
    }
   ],
   "source": [
    "avg_sal"
   ]
  },
  {
   "cell_type": "code",
   "execution_count": 30,
   "metadata": {},
   "outputs": [
    {
     "data": {
      "text/plain": [
       "Text(0.5, 1.0, 'Avg Salary by Job Title')"
      ]
     },
     "execution_count": 30,
     "metadata": {},
     "output_type": "execute_result"
    },
    {
     "data": {
      "image/png": "[encoded data removed]",
      "text/plain": [
       "<Figure size 432x288 with 1 Axes>"
      ]
     },
     "metadata": {
      "needs_background": "light"
     },
     "output_type": "display_data"
    }
   ],
   "source": [
    "sal = avg_sal.plot.bar()\n",
    "sal.set_xlabel(\"Job Title\")\n",
    "sal.set_ylabel(\"Avg Salary in $\")\n",
    "sal.set_title(\"Avg Salary by Job Title\")"
   ]
  },
  {
   "cell_type": "code",
   "execution_count": null,
   "metadata": {},
   "outputs": [],
   "source": []
  }
 ],
 "metadata": {
  "kernelspec": {
   "display_name": "Python 3",
   "language": "python",
   "name": "python3"
  },
  "language_info": {
   "codemirror_mode": {
    "name": "ipython",
    "version": 3
   },
   "file_extension": ".py",
   "mimetype": "text/x-python",
   "name": "python",
   "nbconvert_exporter": "python",
   "pygments_lexer": "ipython3",
   "version": "3.7.7"
  }
 },
 "nbformat": 4,
 "nbformat_minor": 4
}
